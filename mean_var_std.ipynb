{
 "cells": [
  {
   "cell_type": "code",
   "execution_count": 2,
   "metadata": {},
   "outputs": [
    {
     "name": "stdout",
     "output_type": "stream",
     "text": [
      "{'mean': [[3.0, 4.0, 5.0], [1.0, 4.0, 7.0], 4.0], 'variance': [[6.0, 6.0, 6.0], [0.6666666666666666, 0.6666666666666666, 0.6666666666666666], 6.666666666666667], 'standard deviation': [[2.449489742783178, 2.449489742783178, 2.449489742783178], [0.816496580927726, 0.816496580927726, 0.816496580927726], 2.581988897471611], 'max': [[6, 7, 8], [2, 5, 8], 8], 'min': [[0, 1, 2], [0, 3, 6], 0], 'sum': [[9, 12, 15], [3, 12, 21], 36]}\n"
     ]
    }
   ],
   "source": [
    "import numpy as np\n",
    "\n",
    "list= [0,1,2,3,4,5,6,7,8]\n",
    "if len(list) != 9:\n",
    "    raise ValueError(\"List must contain nine numbers.\")\n",
    "else:\n",
    "    matrix = np.array(list).reshape(3, 3)\n",
    "    calculations = {\n",
    "        'mean': [\n",
    "            matrix.mean(axis=0).tolist(),\n",
    "            matrix.mean(axis=1).tolist(),\n",
    "            matrix.mean()\n",
    "        ],\n",
    "        'variance': [\n",
    "            matrix.var(axis=0).tolist(),\n",
    "            matrix.var(axis=1).tolist(),\n",
    "            matrix.var()\n",
    "        ],\n",
    "        'standard deviation': [\n",
    "            matrix.std(axis=0).tolist(),\n",
    "            matrix.std(axis=1).tolist(),\n",
    "            matrix.std()\n",
    "        ],\n",
    "        'max': [\n",
    "            matrix.max(axis=0).tolist(),\n",
    "            matrix.max(axis=1).tolist(),\n",
    "            matrix.max()\n",
    "        ],\n",
    "        'min': [\n",
    "            matrix.min(axis=0).tolist(),\n",
    "            matrix.min(axis=1).tolist(),\n",
    "            matrix.min()\n",
    "        ],\n",
    "        'sum': [\n",
    "            matrix.sum(axis=0).tolist(),\n",
    "            matrix.sum(axis=1).tolist(),\n",
    "            matrix.sum()\n",
    "        ]\n",
    "    }\n",
    "\n",
    "print(calculations)"
   ]
  }
 ],
 "metadata": {
  "kernelspec": {
   "display_name": "Python 3",
   "language": "python",
   "name": "python3"
  },
  "language_info": {
   "codemirror_mode": {
    "name": "ipython",
    "version": 3
   },
   "file_extension": ".py",
   "mimetype": "text/x-python",
   "name": "python",
   "nbconvert_exporter": "python",
   "pygments_lexer": "ipython3",
   "version": "3.11.7"
  }
 },
 "nbformat": 4,
 "nbformat_minor": 2
}
